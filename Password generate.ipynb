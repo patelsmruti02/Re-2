{
 "cells": [
  {
   "cell_type": "code",
   "execution_count": 77,
   "id": "1f0e29cf",
   "metadata": {},
   "outputs": [],
   "source": [
    "def pg(pw):\n",
    "    pw = int(input('Enter the number for password length: '))\n",
    "    \n",
    "    import string\n",
    "    import random\n",
    "    \n",
    "    s1 = string.ascii_lowercase\n",
    "    s2 = string.ascii_uppercase\n",
    "    s3 = string.digits\n",
    "    s4 = string.punctuation\n",
    "    if pw >= 8:\n",
    "        s = []\n",
    "        s.extend(list(s1))\n",
    "        s.extend(list(s2))\n",
    "        s.extend(list(s3))\n",
    "        s.extend(list(s4))\n",
    "        random.shuffle(s)\n",
    "        print(\"The password is : \", ''.join(s[0:pw]))\n",
    "    else :\n",
    "        raise Exception(\"input is not correct\")\n",
    "        \n",
    "        "
   ]
  },
  {
   "cell_type": "code",
   "execution_count": 78,
   "id": "cb342e64",
   "metadata": {},
   "outputs": [],
   "source": [
    "class User:\n",
    "    def user(self):\n",
    "        print('welcome to password generator!')\n",
    "class User1(User):\n",
    "    def details(self):\n",
    "        \n",
    "        User.user(self)\n",
    "        user_id = tuple('u11')\n",
    "        print(\"user_id : \\n\",user_id)\n",
    "        print(type(user_id))\n",
    "        \n",
    "        name = tuple(\"komal\")\n",
    "        print('name: \\n',name)\n",
    "        print(type(name))\n",
    "        print('password : ')\n",
    "        \n",
    "        password = n(8)\n",
    "        password = ()\n",
    "        print(type(password))\n",
    "        "
   ]
  },
  {
   "cell_type": "code",
   "execution_count": 79,
   "id": "335983d5",
   "metadata": {},
   "outputs": [],
   "source": [
    "class User2(User):\n",
    "    def details(self):\n",
    "        \n",
    "        User.user(self)\n",
    "        user_id = tuple('u35')\n",
    "        print('User_id : \\n',user_id)\n",
    "        \n",
    "        name = tuple('axay')\n",
    "        print('name: \\n',name)\n",
    "        print('password: ')\n",
    "        \n",
    "        password = n(10)\n",
    "        password =()"
   ]
  },
  {
   "cell_type": "code",
   "execution_count": 80,
   "id": "f27b9b4a",
   "metadata": {},
   "outputs": [],
   "source": [
    "class User3(User):\n",
    "    def details(self):\n",
    "        \n",
    "        User.user(self)\n",
    "        user_id = tuple('u76')\n",
    "        print('User_id : \\n',user_id)\n",
    "        \n",
    "        name = tuple('priya')\n",
    "        print('name: \\n',name)\n",
    "        print('password: ')\n",
    "        \n",
    "        password = n(14)\n",
    "        password = ()"
   ]
  },
  {
   "cell_type": "code",
   "execution_count": 82,
   "id": "32820772",
   "metadata": {},
   "outputs": [
    {
     "name": "stdout",
     "output_type": "stream",
     "text": [
      "welcome to password generator!\n",
      "User_id : \n",
      " ('u', '3', '5')\n",
      "name: \n",
      " ('a', 'x', 'a', 'y')\n",
      "password: \n",
      "Enter the number for password length: 8\n",
      "your password is :- `xc2+p>T\n"
     ]
    }
   ],
   "source": [
    "obj = User2()\n",
    "obj.details()"
   ]
  },
  {
   "cell_type": "code",
   "execution_count": null,
   "id": "2bf4134e",
   "metadata": {},
   "outputs": [],
   "source": []
  }
 ],
 "metadata": {
  "kernelspec": {
   "display_name": "Python 3 (ipykernel)",
   "language": "python",
   "name": "python3"
  },
  "language_info": {
   "codemirror_mode": {
    "name": "ipython",
    "version": 3
   },
   "file_extension": ".py",
   "mimetype": "text/x-python",
   "name": "python",
   "nbconvert_exporter": "python",
   "pygments_lexer": "ipython3",
   "version": "3.9.12"
  }
 },
 "nbformat": 4,
 "nbformat_minor": 5
}
