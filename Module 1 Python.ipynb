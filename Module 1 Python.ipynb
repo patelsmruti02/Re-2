{
 "cells": [
  {
   "cell_type": "markdown",
   "id": "174824cb",
   "metadata": {},
   "source": [
    "### 1) Write a python program to sum of the first n positive integers"
   ]
  },
  {
   "cell_type": "code",
   "execution_count": 2,
   "id": "eb076f68",
   "metadata": {},
   "outputs": [
    {
     "name": "stdout",
     "output_type": "stream",
     "text": [
      "Input a number: 99\n",
      "sum of the first 99 positive integers: 4950.0\n"
     ]
    }
   ],
   "source": [
    "n = int(input(\"Input a number: \"))\n",
    "sum_num = (n*(n+1))/2\n",
    "print(\"sum of the first\", n , \"positive integers:\", sum_num)"
   ]
  },
  {
   "cell_type": "markdown",
   "id": "61dd5973",
   "metadata": {},
   "source": [
    "### 2) Write a python program to count occurrences of substring in a string."
   ]
  },
  {
   "cell_type": "code",
   "execution_count": 2,
   "id": "d36122bd",
   "metadata": {},
   "outputs": [
    {
     "name": "stdout",
     "output_type": "stream",
     "text": [
      "2\n"
     ]
    }
   ],
   "source": [
    "txt = [\"apple\",\"banana\",\"kiwi\",\"cherry\",\"mango\",\"graps\",\"kiwi\"]\n",
    "x = txt.count(\"kiwi\")\n",
    "print(x)"
   ]
  },
  {
   "cell_type": "markdown",
   "id": "0e09203f",
   "metadata": {},
   "source": [
    "### 3) Write a python program to count the occurrences of each word in given sentence."
   ]
  },
  {
   "cell_type": "code",
   "execution_count": 4,
   "id": "7d9fec66",
   "metadata": {},
   "outputs": [
    {
     "name": "stdout",
     "output_type": "stream",
     "text": [
      "{'python': 2, 'was': 1, 'created': 1, 'by': 1, 'guido': 1, 'van': 1, 'rossum': 1, 'and': 1, 'released': 1, 'in': 1, '1991.': 1}\n"
     ]
    }
   ],
   "source": [
    "def cou(str):\n",
    "    counts = dict()\n",
    "    words = str.split()\n",
    "    \n",
    "    for word in words:\n",
    "        if word in counts:\n",
    "            counts[word] += 1\n",
    "        else :\n",
    "            counts[word] = 1\n",
    "            \n",
    "    return counts\n",
    "\n",
    "print(cou(\"python was created by guido van rossum and python released in 1991.\"))"
   ]
  },
  {
   "cell_type": "markdown",
   "id": "51bdc740",
   "metadata": {},
   "source": [
    "### 4) Write a python program to get a single string from two given strings, separated by a space and swap the first two characters of each string."
   ]
  },
  {
   "cell_type": "code",
   "execution_count": 87,
   "id": "833718c7",
   "metadata": {},
   "outputs": [
    {
     "name": "stdout",
     "output_type": "stream",
     "text": [
      "python\n"
     ]
    }
   ],
   "source": [
    "def fun(a,b):\n",
    "    Na = b[:2]+a[2:]\n",
    "    Nb = a[:2]+b[2:]\n",
    "    return Na + Nb\n",
    "    \n",
    "print(fun(\"hot\",\"pyn\"))    "
   ]
  },
  {
   "cell_type": "markdown",
   "id": "20f0e5c9",
   "metadata": {},
   "source": [
    "### 5) Write a python program to add 'ing' at the end of a given string (length should be at least 3). If the given string already ends with 'ing' then add 'ly' instead if the string length of the given string is less than 3, leave it unchanged"
   ]
  },
  {
   "cell_type": "code",
   "execution_count": 7,
   "id": "324ae35a",
   "metadata": {},
   "outputs": [
    {
     "name": "stdout",
     "output_type": "stream",
     "text": [
      "ab\n",
      "abcing\n",
      "stringly\n"
     ]
    }
   ],
   "source": [
    "def aps(str1):\n",
    "    length = len(str1)\n",
    "    \n",
    "    if length > 2:\n",
    "        if str1[-3:] == 'ing':\n",
    "            str1 += 'ly'\n",
    "        else:\n",
    "            str1 += 'ing'\n",
    "    return str1\n",
    "print(aps('ab'))\n",
    "print(aps('abc'))\n",
    "print(aps('string'))"
   ]
  },
  {
   "cell_type": "markdown",
   "id": "21c4a135",
   "metadata": {},
   "source": [
    "### 6) Write a python program to find the first appearance of the substring 'not' and 'poor' from a given string. if 'not' follows the 'poor', replace the whole 'not'...'poor' substring with 'good'. Return the resulting string"
   ]
  },
  {
   "cell_type": "code",
   "execution_count": 8,
   "id": "081a1419",
   "metadata": {},
   "outputs": [
    {
     "name": "stdout",
     "output_type": "stream",
     "text": [
      "The language is good\n",
      "The language is poor\n"
     ]
    }
   ],
   "source": [
    "def np(str1):\n",
    "    n = str1.find('not')\n",
    "    p = str1.find('poor')\n",
    "    \n",
    "    if p > n and n>0 and p>0:\n",
    "        str1 = str1.replace(str1[n:p+4], 'good')\n",
    "        return str1\n",
    "    else:\n",
    "        return str1\n",
    "print(np('The language is not that poor'))\n",
    "print(np('The language is poor'))"
   ]
  },
  {
   "cell_type": "markdown",
   "id": "719ff6fa",
   "metadata": {},
   "source": [
    "### 7) Program to find Greatest  Common Divisor of two numbers. For example, the GCD of 20 and 28 is 4 and of 98 and 56 is 14."
   ]
  },
  {
   "cell_type": "code",
   "execution_count": 31,
   "id": "07678ed0",
   "metadata": {},
   "outputs": [
    {
     "name": "stdout",
     "output_type": "stream",
     "text": [
      "3\n"
     ]
    }
   ],
   "source": [
    "def gcd(a,b):\n",
    "    if a==b:\n",
    "        return a\n",
    "    if a>b:\n",
    "        return gcd(a-b,b)\n",
    "    else:\n",
    "        return gcd(a,b-a)\n",
    "a = 21\n",
    "b = 18\n",
    "print(gcd(a,b))"
   ]
  },
  {
   "cell_type": "markdown",
   "id": "58e53bab",
   "metadata": {},
   "source": [
    "### 8) Write a Python program to check whether a list contains a sublist."
   ]
  },
  {
   "cell_type": "code",
   "execution_count": 42,
   "id": "5a8d5de1",
   "metadata": {},
   "outputs": [
    {
     "name": "stdout",
     "output_type": "stream",
     "text": [
      "True\n"
     ]
    }
   ],
   "source": [
    "tlist = [[\"pink\",\"red\"],[\"green\",\"blue\"],[\"black\",\"gray\"]]\n",
    "slist = [\"black\",\"gray\"]\n",
    "\n",
    "if slist in tlist:\n",
    "    print(\"True\")\n",
    "else:\n",
    "    print(\"False\")"
   ]
  },
  {
   "cell_type": "markdown",
   "id": "df63bb75",
   "metadata": {},
   "source": [
    "### 9) Write a Python program to find the second smallest number in a list. "
   ]
  },
  {
   "cell_type": "code",
   "execution_count": 30,
   "id": "953c4654",
   "metadata": {},
   "outputs": [
    {
     "name": "stdout",
     "output_type": "stream",
     "text": [
      "Largest element is : 64\n",
      "Smallest element is : 17\n",
      "Second Largest element is : 56\n",
      "Second Smallest element is : 21\n"
     ]
    }
   ],
   "source": [
    "def l(list1):\n",
    "    length = len(list1)\n",
    "    list1.sort()\n",
    "    print(\"Largest element is :\", list1[length-1])\n",
    "    print(\"Smallest element is :\", list1[0])\n",
    "    print(\"Second Largest element is :\", list1[length-2])\n",
    "    print(\"Second Smallest element is :\", list1[1])\n",
    "    \n",
    "list1 = [23,64,17,35,56,38,29,21,42]\n",
    "\n",
    "Largest = l(list1)"
   ]
  },
  {
   "cell_type": "markdown",
   "id": "bdd7fd3d",
   "metadata": {},
   "source": [
    "### 10) Write Python program to get unique values from a list."
   ]
  },
  {
   "cell_type": "code",
   "execution_count": 47,
   "id": "d166a241",
   "metadata": {},
   "outputs": [
    {
     "name": "stdout",
     "output_type": "stream",
     "text": [
      "[40, 10, 50, 20, 30]\n"
     ]
    }
   ],
   "source": [
    "vlist = [20,40,20,30,40,10,50,10]\n",
    "nlist = set(vlist)\n",
    "ulist = list(nlist)\n",
    "print(ulist)"
   ]
  },
  {
   "cell_type": "markdown",
   "id": "ff268fbd",
   "metadata": {},
   "source": [
    "### 11) Write a Python program to unzip a list of tuples into individual lists."
   ]
  },
  {
   "cell_type": "code",
   "execution_count": 4,
   "id": "bc54fa58",
   "metadata": {},
   "outputs": [
    {
     "name": "stdout",
     "output_type": "stream",
     "text": [
      "[(2, 6, 10, 14), (4, 8, 12, 16)]\n"
     ]
    }
   ],
   "source": [
    "a = [(2,4),(6,8),(10,12),(14,16)]\n",
    "print(list(zip(*a)))"
   ]
  },
  {
   "cell_type": "markdown",
   "id": "0d6e4574",
   "metadata": {},
   "source": [
    "### 12) Write a Python program to convert a list of tuples into a dictionary"
   ]
  },
  {
   "cell_type": "code",
   "execution_count": 6,
   "id": "9927994c",
   "metadata": {},
   "outputs": [
    {
     "name": "stdout",
     "output_type": "stream",
     "text": [
      "{'game': 'play', 'food': 'eat', 'book': 'read'}\n"
     ]
    }
   ],
   "source": [
    "b = [('game','play'),('food','eat'),('book','read')]\n",
    "print(dict(b))"
   ]
  },
  {
   "cell_type": "markdown",
   "id": "02724a6d",
   "metadata": {},
   "source": [
    "### 13) Write a Python program to sort a dictionary (ascending/descending) by value."
   ]
  },
  {
   "cell_type": "code",
   "execution_count": 9,
   "id": "bae4dae9",
   "metadata": {},
   "outputs": [
    {
     "name": "stdout",
     "output_type": "stream",
     "text": [
      "[('blck', 4), ('green', 5), ('pink', 4), ('red', 3)]\n",
      "[('red', 3), ('pink', 4), ('green', 5), ('blck', 4)]\n"
     ]
    }
   ],
   "source": [
    "dict1 = {'red' : 3, 'green' : 5, 'pink' : 4, 'blck' : 4}\n",
    "print(sorted(dict1.items()))\n",
    "print(sorted(dict1.items(),reverse=True))"
   ]
  },
  {
   "cell_type": "markdown",
   "id": "bbf6941a",
   "metadata": {},
   "source": [
    "### 14) Write a Python program to find the highest 3 values in  a dictionary"
   ]
  },
  {
   "cell_type": "code",
   "execution_count": 21,
   "id": "575720c6",
   "metadata": {},
   "outputs": [
    {
     "name": "stdout",
     "output_type": "stream",
     "text": [
      "max value :  x\n"
     ]
    }
   ],
   "source": [
    "dict1 = {'w':44, 'x':65, 'y':27, 'z':12}\n",
    "f_max = max(dict1, key=dict1.get)\n",
    "print('max value : ', f_max)"
   ]
  },
  {
   "cell_type": "markdown",
   "id": "eddf183b",
   "metadata": {},
   "source": [
    "### 15) Given a number n, write a python program to make and print the list of Fibonacci series up to n. Input : n=7, Hint : first 7 numbers in the series , Expected output :   First few Fibonacci numbers are 0,1,1,2,3,5,8,13"
   ]
  },
  {
   "cell_type": "code",
   "execution_count": 26,
   "id": "97a92bfe",
   "metadata": {},
   "outputs": [
    {
     "name": "stdout",
     "output_type": "stream",
     "text": [
      "0 1 1 2 3 5 8 "
     ]
    }
   ],
   "source": [
    "def fibonacci_numbers(num):\n",
    "    if num == 0:\n",
    "        return 0\n",
    "    elif num == 1:\n",
    "        return 1\n",
    "    else:\n",
    "        return fibonacci_numbers(num-2)+fibonacci_numbers(num-1)\n",
    "    \n",
    "n = 7\n",
    "for i in range(0,n):\n",
    "    print(fibonacci_numbers(i), end=' ')"
   ]
  },
  {
   "cell_type": "markdown",
   "id": "9ea8c8ef",
   "metadata": {},
   "source": [
    "### 16) Counting the frequencies in a list using a dictionary in Python.  Input : [1,1,1,5,5,3,1,3,3,1,4,4,4,2,2,2,2] ,  Expected output: 1:5,2:4,3:3,4:3,5:2"
   ]
  },
  {
   "cell_type": "code",
   "execution_count": 1,
   "id": "41329076",
   "metadata": {},
   "outputs": [
    {
     "name": "stdout",
     "output_type": "stream",
     "text": [
      "{1: 5, 5: 2, 3: 3, 4: 3, 2: 4}\n"
     ]
    }
   ],
   "source": [
    "def count_frequencies(ip):\n",
    "    freq = {}\n",
    "    for item in ip:\n",
    "        if (item in freq):\n",
    "            freq[item] += 1\n",
    "        else:\n",
    "            freq[item] = 1\n",
    "    print(freq)\n",
    "ip = [1,1,1,5,5,3,1,3,3,1,4,4,4,2,2,2,2]\n",
    "count_frequencies(ip)"
   ]
  },
  {
   "cell_type": "markdown",
   "id": "6e96bcb3",
   "metadata": {},
   "source": [
    "### 17) Write a Python program using function to find the sum of odd series and even series."
   ]
  },
  {
   "cell_type": "code",
   "execution_count": 15,
   "id": "b64cd65e",
   "metadata": {},
   "outputs": [
    {
     "name": "stdout",
     "output_type": "stream",
     "text": [
      "The original list is : [124, 53, 79, 3453, 882, 746]\n",
      "Odd digit sum : 43\n",
      "Even digit sum : 38\n"
     ]
    }
   ],
   "source": [
    "test_list = [124,53,79,3453,882,746]\n",
    "print(\"The original list is : \" + str(test_list))\n",
    "\n",
    "odd_sum = 0\n",
    "even_sum = 0\n",
    "\n",
    "for sub in test_list:\n",
    "    for ele in str(sub):\n",
    "        \n",
    "        if int(ele)%2 == 0:\n",
    "            even_sum += int(ele)\n",
    "        else:\n",
    "            odd_sum += int(ele)\n",
    "\n",
    "print(\"Odd digit sum : \" + str(odd_sum))\n",
    "print(\"Even digit sum : \" + str(even_sum))    "
   ]
  },
  {
   "cell_type": "markdown",
   "id": "683c9294",
   "metadata": {},
   "source": [
    "\n",
    "### 18) Python Program to Find Factorial of Number Using Recursion"
   ]
  },
  {
   "cell_type": "code",
   "execution_count": 57,
   "id": "4d08f075",
   "metadata": {},
   "outputs": [
    {
     "name": "stdout",
     "output_type": "stream",
     "text": [
      "number :  6\n",
      "Factorial :  720\n"
     ]
    }
   ],
   "source": [
    "def factorial(n):\n",
    "    if (n==1 or n==0):\n",
    "        return 1\n",
    "    else:\n",
    "        return (n*factorial(n-1))\n",
    "    \n",
    "num = 6;\n",
    "print('number : ', num)\n",
    "print('Factorial : ',factorial(num))"
   ]
  },
  {
   "cell_type": "markdown",
   "id": "f35dbd72",
   "metadata": {},
   "source": [
    "### 19) Write a Python function that takes a list and returns a new list with unique elements of the first list."
   ]
  },
  {
   "cell_type": "code",
   "execution_count": 15,
   "id": "c1a4e2c8",
   "metadata": {},
   "outputs": [
    {
     "name": "stdout",
     "output_type": "stream",
     "text": [
      "[1, 2, 3, 4, 5, 6]\n"
     ]
    }
   ],
   "source": [
    "unique_list = [3,6,2,4,5,4,6,3,1,2]\n",
    "new_list = (list(set(unique_list)))\n",
    "print(new_list)"
   ]
  }
 ],
 "metadata": {
  "kernelspec": {
   "display_name": "Python 3 (ipykernel)",
   "language": "python",
   "name": "python3"
  },
  "language_info": {
   "codemirror_mode": {
    "name": "ipython",
    "version": 3
   },
   "file_extension": ".py",
   "mimetype": "text/x-python",
   "name": "python",
   "nbconvert_exporter": "python",
   "pygments_lexer": "ipython3",
   "version": "3.9.12"
  }
 },
 "nbformat": 4,
 "nbformat_minor": 5
}
